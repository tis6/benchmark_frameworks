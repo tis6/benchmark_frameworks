{
 "cells": [
  {
   "cell_type": "code",
   "execution_count": 4,
   "metadata": {},
   "outputs": [],
   "source": [
    "import pandas as pd\n",
    "from pathlib import Path\n",
    "import matplotlib.pyplot as plt"
   ]
  },
  {
   "cell_type": "code",
   "execution_count": 5,
   "metadata": {},
   "outputs": [],
   "source": [
    "METRICS_PATH = Path('/home/lucas.rotsen/Git_Repos/benchmark_frameworks/metrics/raw')"
   ]
  },
  {
   "cell_type": "code",
   "execution_count": 50,
   "metadata": {},
   "outputs": [],
   "source": [
    "repos_df = pd.read_csv(next(METRICS_PATH.glob('repos.csv')), sep=',')\n",
    "repos_metrics_df = pd.read_csv(next(METRICS_PATH.glob('repos-metrics.csv')), sep=',', index_col='Unnamed: 0')\n",
    "issues_metrics_df = pd.read_csv(next(METRICS_PATH.glob('issues-metrics.csv')), sep=',')"
   ]
  },
  {
   "cell_type": "code",
   "execution_count": 51,
   "metadata": {},
   "outputs": [
    {
     "data": {
      "text/html": [
       "<div>\n",
       "<style scoped>\n",
       "    .dataframe tbody tr th:only-of-type {\n",
       "        vertical-align: middle;\n",
       "    }\n",
       "\n",
       "    .dataframe tbody tr th {\n",
       "        vertical-align: top;\n",
       "    }\n",
       "\n",
       "    .dataframe thead th {\n",
       "        text-align: right;\n",
       "    }\n",
       "</style>\n",
       "<table border=\"1\" class=\"dataframe\">\n",
       "  <thead>\n",
       "    <tr style=\"text-align: right;\">\n",
       "      <th></th>\n",
       "      <th>owner</th>\n",
       "      <th>name</th>\n",
       "      <th>created_at</th>\n",
       "      <th>merged_pull_requests</th>\n",
       "      <th>total_releases</th>\n",
       "      <th>total_closed_issues</th>\n",
       "    </tr>\n",
       "  </thead>\n",
       "  <tbody>\n",
       "    <tr>\n",
       "      <th>0</th>\n",
       "      <td>playframework</td>\n",
       "      <td>playframework</td>\n",
       "      <td>2011-09-07T09:24:08Z</td>\n",
       "      <td>5516</td>\n",
       "      <td>41</td>\n",
       "      <td>2993</td>\n",
       "    </tr>\n",
       "    <tr>\n",
       "      <th>1</th>\n",
       "      <td>django</td>\n",
       "      <td>django</td>\n",
       "      <td>2012-04-28T02:47:18Z</td>\n",
       "      <td>5468</td>\n",
       "      <td>0</td>\n",
       "      <td>0</td>\n",
       "    </tr>\n",
       "    <tr>\n",
       "      <th>2</th>\n",
       "      <td>ktorio</td>\n",
       "      <td>ktor</td>\n",
       "      <td>2015-08-03T16:49:36Z</td>\n",
       "      <td>300</td>\n",
       "      <td>27</td>\n",
       "      <td>804</td>\n",
       "    </tr>\n",
       "    <tr>\n",
       "      <th>3</th>\n",
       "      <td>rails</td>\n",
       "      <td>rails</td>\n",
       "      <td>2008-04-11T02:19:47Z</td>\n",
       "      <td>16733</td>\n",
       "      <td>18</td>\n",
       "      <td>13286</td>\n",
       "    </tr>\n",
       "    <tr>\n",
       "      <th>4</th>\n",
       "      <td>spring-projects</td>\n",
       "      <td>spring-framework</td>\n",
       "      <td>2010-12-08T04:04:45Z</td>\n",
       "      <td>542</td>\n",
       "      <td>175</td>\n",
       "      <td>18555</td>\n",
       "    </tr>\n",
       "    <tr>\n",
       "      <th>5</th>\n",
       "      <td>laravel</td>\n",
       "      <td>laravel</td>\n",
       "      <td>2011-06-08T03:06:08Z</td>\n",
       "      <td>1227</td>\n",
       "      <td>36</td>\n",
       "      <td>0</td>\n",
       "    </tr>\n",
       "    <tr>\n",
       "      <th>6</th>\n",
       "      <td>expressjs</td>\n",
       "      <td>express</td>\n",
       "      <td>2009-06-26T18:56:01Z</td>\n",
       "      <td>200</td>\n",
       "      <td>141</td>\n",
       "      <td>3177</td>\n",
       "    </tr>\n",
       "    <tr>\n",
       "      <th>7</th>\n",
       "      <td>gin-gonic</td>\n",
       "      <td>gin</td>\n",
       "      <td>2014-06-16T23:57:25Z</td>\n",
       "      <td>614</td>\n",
       "      <td>12</td>\n",
       "      <td>1155</td>\n",
       "    </tr>\n",
       "    <tr>\n",
       "      <th>8</th>\n",
       "      <td>vapor</td>\n",
       "      <td>vapor</td>\n",
       "      <td>2016-01-18T22:37:52Z</td>\n",
       "      <td>860</td>\n",
       "      <td>309</td>\n",
       "      <td>1205</td>\n",
       "    </tr>\n",
       "    <tr>\n",
       "      <th>9</th>\n",
       "      <td>dotnet</td>\n",
       "      <td>core</td>\n",
       "      <td>2014-11-18T00:44:57Z</td>\n",
       "      <td>980</td>\n",
       "      <td>97</td>\n",
       "      <td>2944</td>\n",
       "    </tr>\n",
       "  </tbody>\n",
       "</table>\n",
       "</div>"
      ],
      "text/plain": [
       "             owner              name            created_at  \\\n",
       "0    playframework     playframework  2011-09-07T09:24:08Z   \n",
       "1           django            django  2012-04-28T02:47:18Z   \n",
       "2           ktorio              ktor  2015-08-03T16:49:36Z   \n",
       "3            rails             rails  2008-04-11T02:19:47Z   \n",
       "4  spring-projects  spring-framework  2010-12-08T04:04:45Z   \n",
       "5          laravel           laravel  2011-06-08T03:06:08Z   \n",
       "6        expressjs           express  2009-06-26T18:56:01Z   \n",
       "7        gin-gonic               gin  2014-06-16T23:57:25Z   \n",
       "8            vapor             vapor  2016-01-18T22:37:52Z   \n",
       "9           dotnet              core  2014-11-18T00:44:57Z   \n",
       "\n",
       "   merged_pull_requests  total_releases  total_closed_issues  \n",
       "0                  5516              41                 2993  \n",
       "1                  5468               0                    0  \n",
       "2                   300              27                  804  \n",
       "3                 16733              18                13286  \n",
       "4                   542             175                18555  \n",
       "5                  1227              36                    0  \n",
       "6                   200             141                 3177  \n",
       "7                   614              12                 1155  \n",
       "8                   860             309                 1205  \n",
       "9                   980              97                 2944  "
      ]
     },
     "execution_count": 51,
     "metadata": {},
     "output_type": "execute_result"
    }
   ],
   "source": [
    "repos_df"
   ]
  },
  {
   "cell_type": "code",
   "execution_count": 72,
   "metadata": {},
   "outputs": [
    {
     "data": {
      "text/html": [
       "<div>\n",
       "<style scoped>\n",
       "    .dataframe tbody tr th:only-of-type {\n",
       "        vertical-align: middle;\n",
       "    }\n",
       "\n",
       "    .dataframe tbody tr th {\n",
       "        vertical-align: top;\n",
       "    }\n",
       "\n",
       "    .dataframe thead th {\n",
       "        text-align: right;\n",
       "    }\n",
       "</style>\n",
       "<table border=\"1\" class=\"dataframe\">\n",
       "  <thead>\n",
       "    <tr style=\"text-align: right;\">\n",
       "      <th></th>\n",
       "      <th>merged_pull_requests</th>\n",
       "      <th>total_releases</th>\n",
       "      <th>total_closed_issues</th>\n",
       "    </tr>\n",
       "  </thead>\n",
       "  <tbody>\n",
       "    <tr>\n",
       "      <th>mean</th>\n",
       "      <td>3244.000000</td>\n",
       "      <td>85.60000</td>\n",
       "      <td>4411.900000</td>\n",
       "    </tr>\n",
       "    <tr>\n",
       "      <th>std</th>\n",
       "      <td>5154.173045</td>\n",
       "      <td>97.92083</td>\n",
       "      <td>6300.865769</td>\n",
       "    </tr>\n",
       "    <tr>\n",
       "      <th>max</th>\n",
       "      <td>16733.000000</td>\n",
       "      <td>309.00000</td>\n",
       "      <td>18555.000000</td>\n",
       "    </tr>\n",
       "    <tr>\n",
       "      <th>min</th>\n",
       "      <td>200.000000</td>\n",
       "      <td>0.00000</td>\n",
       "      <td>0.000000</td>\n",
       "    </tr>\n",
       "    <tr>\n",
       "      <th>median</th>\n",
       "      <td>920.000000</td>\n",
       "      <td>38.50000</td>\n",
       "      <td>2074.500000</td>\n",
       "    </tr>\n",
       "  </tbody>\n",
       "</table>\n",
       "</div>"
      ],
      "text/plain": [
       "        merged_pull_requests  total_releases  total_closed_issues\n",
       "mean             3244.000000        85.60000          4411.900000\n",
       "std              5154.173045        97.92083          6300.865769\n",
       "max             16733.000000       309.00000         18555.000000\n",
       "min               200.000000         0.00000             0.000000\n",
       "median            920.000000        38.50000          2074.500000"
      ]
     },
     "execution_count": 72,
     "metadata": {},
     "output_type": "execute_result"
    }
   ],
   "source": [
    "df = pd.DataFrame({'merged_pull_requests': [repos_df['merged_pull_requests'].mean(), repos_df['merged_pull_requests'].std(), repos_df['merged_pull_requests'].max(), repos_df['merged_pull_requests'].min(), repos_df['merged_pull_requests'].median()],\n",
    "                   'total_releases': [repos_df['total_releases'].mean(), repos_df['total_releases'].std(), repos_df['total_releases'].max(), repos_df['total_releases'].min(), repos_df['total_releases'].median()],\n",
    "                   'total_closed_issues': [repos_df['total_closed_issues'].mean(), repos_df['total_closed_issues'].std(), repos_df['total_closed_issues'].max(), repos_df['total_closed_issues'].min(), repos_df['total_closed_issues'].median()]},\n",
    "                  index=['mean', 'std', 'max', 'min', 'median'])\n",
    "\n",
    "df"
   ]
  },
  {
   "cell_type": "code",
   "execution_count": 90,
   "metadata": {},
   "outputs": [
    {
     "data": {
      "text/plain": [
       "<matplotlib.axes._subplots.AxesSubplot at 0x7faaab0bfad0>"
      ]
     },
     "execution_count": 90,
     "metadata": {},
     "output_type": "execute_result"
    },
    {
     "data": {
      "image/png": "[encoded data removed]",
      "text/plain": [
       "<Figure size 432x288 with 1 Axes>"
      ]
     },
     "metadata": {
      "needs_background": "light"
     },
     "output_type": "display_data"
    }
   ],
   "source": [
    "# Lifetime median\n",
    "issues_metrics_df.plot(kind='barh', x='framework', y='lft_median')"
   ]
  },
  {
   "cell_type": "code",
   "execution_count": 92,
   "metadata": {},
   "outputs": [
    {
     "data": {
      "text/plain": [
       "<matplotlib.axes._subplots.AxesSubplot at 0x7faaaaf84d90>"
      ]
     },
     "execution_count": 92,
     "metadata": {},
     "output_type": "execute_result"
    },
    {
     "data": {
      "image/png": "[encoded data removed]",
      "text/plain": [
       "<Figure size 432x288 with 1 Axes>"
      ]
     },
     "metadata": {
      "needs_background": "light"
     },
     "output_type": "display_data"
    }
   ],
   "source": [
    "# Median of merged pull requests\n",
    "repos_df.plot(kind='barh', x='owner', y='merged_pull_requests')"
   ]
  },
  {
   "cell_type": "code",
   "execution_count": 93,
   "metadata": {},
   "outputs": [
    {
     "data": {
      "text/plain": [
       "<matplotlib.axes._subplots.AxesSubplot at 0x7faaaaef3090>"
      ]
     },
     "execution_count": 93,
     "metadata": {},
     "output_type": "execute_result"
    },
    {
     "data": {
      "image/png": "[encoded data removed]",
      "text/plain": [
       "<Figure size 432x288 with 1 Axes>"
      ]
     },
     "metadata": {
      "needs_background": "light"
     },
     "output_type": "display_data"
    }
   ],
   "source": [
    "# median of total_closed_issues\n",
    "repos_df.plot(kind='barh', x='owner', y='total_closed_issues')"
   ]
  }
 ],
 "metadata": {
  "kernelspec": {
   "display_name": "Python 3",
   "language": "python",
   "name": "python3"
  },
  "language_info": {
   "codemirror_mode": {
    "name": "ipython",
    "version": 3
   },
   "file_extension": ".py",
   "mimetype": "text/x-python",
   "name": "python",
   "nbconvert_exporter": "python",
   "pygments_lexer": "ipython3",
   "version": "3.7.5"
  }
 },
 "nbformat": 4,
 "nbformat_minor": 4
}
